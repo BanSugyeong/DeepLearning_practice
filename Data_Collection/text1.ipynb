{
 "cells": [
  {
   "cell_type": "markdown",
   "metadata": {},
   "source": [
    "## 데이터 저장"
   ]
  },
  {
   "cell_type": "code",
   "execution_count": 4,
   "metadata": {},
   "outputs": [
    {
     "data": {
      "text/html": [
       "<div>\n",
       "<style scoped>\n",
       "    .dataframe tbody tr th:only-of-type {\n",
       "        vertical-align: middle;\n",
       "    }\n",
       "\n",
       "    .dataframe tbody tr th {\n",
       "        vertical-align: top;\n",
       "    }\n",
       "\n",
       "    .dataframe thead th {\n",
       "        text-align: right;\n",
       "    }\n",
       "</style>\n",
       "<table border=\"1\" class=\"dataframe\">\n",
       "  <thead>\n",
       "    <tr style=\"text-align: right;\">\n",
       "      <th></th>\n",
       "      <th>카테고리</th>\n",
       "      <th>키워드</th>\n",
       "      <th>제목</th>\n",
       "      <th>질문</th>\n",
       "      <th>답변</th>\n",
       "    </tr>\n",
       "  </thead>\n",
       "  <tbody>\n",
       "    <tr>\n",
       "      <th>0</th>\n",
       "      <td>TV</td>\n",
       "      <td>드라마</td>\n",
       "      <td>영화 드라마 찾아주세요ㅜ</td>\n",
       "      <td>제가 학교에서 분장에 대한 발표 준비를 하고있는데요\\n자료가 필요해서 자료를 찾고있...</td>\n",
       "      <td>https://youtu.be/tU2mfOm2CL8?si=cBZuDCwzLRUkjM...</td>\n",
       "    </tr>\n",
       "    <tr>\n",
       "      <th>1</th>\n",
       "      <td>TV</td>\n",
       "      <td>드라마</td>\n",
       "      <td>웹드라마 오디션</td>\n",
       "      <td>안녕하세요 이제 중학교 1학년이 되는 현 초6입니다. 저는 1-2년전부터 배우라는 ...</td>\n",
       "      <td>웹드라마 인터넷 검색하고 나오는 곳들은 99% 학원형 엔터!! 라고 말하는 곳들이고...</td>\n",
       "    </tr>\n",
       "    <tr>\n",
       "      <th>2</th>\n",
       "      <td>TV</td>\n",
       "      <td>드라마</td>\n",
       "      <td>NaN</td>\n",
       "      <td>NaN</td>\n",
       "      <td>안녕하세요! 현재 출연자 모집 중인 웹드라마 \"왕깨칠\" 오디션에 지원해 보세요200...</td>\n",
       "    </tr>\n",
       "    <tr>\n",
       "      <th>3</th>\n",
       "      <td>TV</td>\n",
       "      <td>드라마</td>\n",
       "      <td>드라마 패러디 저작권</td>\n",
       "      <td>드라마를 패러디하고 싶은데 따라하면 저작권법에 걸릴까요..?사람들이 하도 많이 해서...</td>\n",
       "      <td>안녕하세요, 한국저작권위원회 저작권상담센터입니다.패러디란, 널리 알려진 타인의 저작...</td>\n",
       "    </tr>\n",
       "    <tr>\n",
       "      <th>4</th>\n",
       "      <td>TV</td>\n",
       "      <td>드라마</td>\n",
       "      <td>NaN</td>\n",
       "      <td>NaN</td>\n",
       "      <td>원작자한테 허락받아야 제일 좋고 비영리 목적이 좋은데 (질문자님이 이 패러디를 어디...</td>\n",
       "    </tr>\n",
       "  </tbody>\n",
       "</table>\n",
       "</div>"
      ],
      "text/plain": [
       "  카테고리  키워드             제목                                                 질문  \\\n",
       "0   TV  드라마  영화 드라마 찾아주세요ㅜ  제가 학교에서 분장에 대한 발표 준비를 하고있는데요\\n자료가 필요해서 자료를 찾고있...   \n",
       "1   TV  드라마       웹드라마 오디션  안녕하세요 이제 중학교 1학년이 되는 현 초6입니다. 저는 1-2년전부터 배우라는 ...   \n",
       "2   TV  드라마            NaN                                                NaN   \n",
       "3   TV  드라마    드라마 패러디 저작권  드라마를 패러디하고 싶은데 따라하면 저작권법에 걸릴까요..?사람들이 하도 많이 해서...   \n",
       "4   TV  드라마            NaN                                                NaN   \n",
       "\n",
       "                                                  답변  \n",
       "0  https://youtu.be/tU2mfOm2CL8?si=cBZuDCwzLRUkjM...  \n",
       "1  웹드라마 인터넷 검색하고 나오는 곳들은 99% 학원형 엔터!! 라고 말하는 곳들이고...  \n",
       "2  안녕하세요! 현재 출연자 모집 중인 웹드라마 \"왕깨칠\" 오디션에 지원해 보세요200...  \n",
       "3  안녕하세요, 한국저작권위원회 저작권상담센터입니다.패러디란, 널리 알려진 타인의 저작...  \n",
       "4  원작자한테 허락받아야 제일 좋고 비영리 목적이 좋은데 (질문자님이 이 패러디를 어디...  "
      ]
     },
     "execution_count": 4,
     "metadata": {},
     "output_type": "execute_result"
    }
   ],
   "source": [
    "import pandas as pd\n",
    "\n",
    "df = pd.read_csv('카테고리별/TV.csv', encoding='utf-8')\n",
    "df.head()"
   ]
  },
  {
   "cell_type": "code",
   "execution_count": null,
   "metadata": {},
   "outputs": [],
   "source": [
    "# 데이터 저장\n",
    "import pickle\n",
    "\n",
    "def save_data_to_file(data, filename):\n",
    "    with open(filename, 'wb') as file:\n",
    "        pickle.dump(data, file)\n",
    "\n",
    "# 처리된 텍스트 데이터를 파일로 저장\n",
    "save_data_to_file(처리된 텍스트 데이터, '처리된 텍스트 데이터.pkl')"
   ]
  },
  {
   "cell_type": "markdown",
   "metadata": {},
   "source": [
    "## 데이터 불러오기"
   ]
  },
  {
   "cell_type": "code",
   "execution_count": null,
   "metadata": {},
   "outputs": [],
   "source": [
    "import pickle\n",
    "\n",
    "# pickle 파일에서 데이터 로드\n",
    "def load_data_from_file(filename):\n",
    "    with open(filename, 'rb') as file:\n",
    "        data = pickle.load(file)\n",
    "    return data\n",
    "\n",
    "# 로드된 데이터 사용\n",
    "loaded_texts = load_data_from_file('처리된 텍스트 데이터.pkl')"
   ]
  },
  {
   "cell_type": "markdown",
   "metadata": {},
   "source": [
    "## 불필요한 문자 제거"
   ]
  },
  {
   "cell_type": "code",
   "execution_count": null,
   "metadata": {},
   "outputs": [],
   "source": [
    "import re\n",
    "\n",
    "def remove_text(texts_dict):\n",
    "    processed_texts = {}\n",
    "    for file_path, text in texts_dict.items():\n",
    "        # 소문자 알파벳 뒤에 /와 공백이 오는 형식 -> 공백으로 대체\n",
    "        text = re.sub(r'[a-z]/\\s', ' ', text)\n",
    "\n",
    "        # 불필요한 문자 공백으로 대체: 영문자, 숫자, 공백, 한글, 일부 문장부호만 남김\n",
    "        text = re.sub(r'[^\\w\\s?.!가-힣]', ' ', text)\n",
    "\n",
    "        processed_texts[file_path] = text\n",
    "    return processed_texts"
   ]
  },
  {
   "cell_type": "code",
   "execution_count": null,
   "metadata": {},
   "outputs": [],
   "source": [
    "processed_texts = remove_text(전체 데이터)"
   ]
  },
  {
   "cell_type": "markdown",
   "metadata": {},
   "source": [
    "## 띄어쓰기 교정"
   ]
  },
  {
   "cell_type": "code",
   "execution_count": null,
   "metadata": {},
   "outputs": [],
   "source": [
    "from pykospacing import Spacing\n",
    "\n",
    "def correct_spacing(texts_dict):\n",
    "    spacing = Spacing()\n",
    "    corrected_texts = {}\n",
    "    for file_path, text in texts_dict.items():\n",
    "        # 띄어쓰기 교정 적용\n",
    "        corrected_text = spacing(text)\n",
    "        corrected_texts[file_path] = corrected_text\n",
    "    return corrected_texts\n",
    "\n",
    "corrected_texts = correct_spacing(processed_texts)"
   ]
  }
 ],
 "metadata": {
  "kernelspec": {
   "display_name": "base",
   "language": "python",
   "name": "python3"
  },
  "language_info": {
   "codemirror_mode": {
    "name": "ipython",
    "version": 3
   },
   "file_extension": ".py",
   "mimetype": "text/x-python",
   "name": "python",
   "nbconvert_exporter": "python",
   "pygments_lexer": "ipython3",
   "version": "3.11.5"
  }
 },
 "nbformat": 4,
 "nbformat_minor": 2
}
