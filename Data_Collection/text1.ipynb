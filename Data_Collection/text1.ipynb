{
 "cells": [
  {
   "cell_type": "markdown",
   "metadata": {},
   "source": [
    "## 데이터 저장"
   ]
  },
  {
   "cell_type": "code",
   "execution_count": 5,
   "metadata": {},
   "outputs": [
    {
     "data": {
      "text/html": [
       "<div>\n",
       "<style scoped>\n",
       "    .dataframe tbody tr th:only-of-type {\n",
       "        vertical-align: middle;\n",
       "    }\n",
       "\n",
       "    .dataframe tbody tr th {\n",
       "        vertical-align: top;\n",
       "    }\n",
       "\n",
       "    .dataframe thead th {\n",
       "        text-align: right;\n",
       "    }\n",
       "</style>\n",
       "<table border=\"1\" class=\"dataframe\">\n",
       "  <thead>\n",
       "    <tr style=\"text-align: right;\">\n",
       "      <th></th>\n",
       "      <th>카테고리</th>\n",
       "      <th>키워드</th>\n",
       "      <th>질문</th>\n",
       "    </tr>\n",
       "  </thead>\n",
       "  <tbody>\n",
       "    <tr>\n",
       "      <th>0</th>\n",
       "      <td>TV</td>\n",
       "      <td>드라마</td>\n",
       "      <td>제가 학교에서 분장에 대한 발표 준비를 하고있는데요\\n자료가 필요해서 자료를 찾고있...</td>\n",
       "    </tr>\n",
       "    <tr>\n",
       "      <th>1</th>\n",
       "      <td>TV</td>\n",
       "      <td>드라마</td>\n",
       "      <td>안녕하세요 이제 중학교 1학년이 되는 현 초6입니다. 저는 1-2년전부터 배우라는 ...</td>\n",
       "    </tr>\n",
       "    <tr>\n",
       "      <th>2</th>\n",
       "      <td>TV</td>\n",
       "      <td>드라마</td>\n",
       "      <td>NaN</td>\n",
       "    </tr>\n",
       "    <tr>\n",
       "      <th>3</th>\n",
       "      <td>TV</td>\n",
       "      <td>드라마</td>\n",
       "      <td>드라마를 패러디하고 싶은데 따라하면 저작권법에 걸릴까요..?사람들이 하도 많이 해서...</td>\n",
       "    </tr>\n",
       "    <tr>\n",
       "      <th>4</th>\n",
       "      <td>TV</td>\n",
       "      <td>드라마</td>\n",
       "      <td>NaN</td>\n",
       "    </tr>\n",
       "  </tbody>\n",
       "</table>\n",
       "</div>"
      ],
      "text/plain": [
       "  카테고리  키워드                                                 질문\n",
       "0   TV  드라마  제가 학교에서 분장에 대한 발표 준비를 하고있는데요\\n자료가 필요해서 자료를 찾고있...\n",
       "1   TV  드라마  안녕하세요 이제 중학교 1학년이 되는 현 초6입니다. 저는 1-2년전부터 배우라는 ...\n",
       "2   TV  드라마                                                NaN\n",
       "3   TV  드라마  드라마를 패러디하고 싶은데 따라하면 저작권법에 걸릴까요..?사람들이 하도 많이 해서...\n",
       "4   TV  드라마                                                NaN"
      ]
     },
     "execution_count": 5,
     "metadata": {},
     "output_type": "execute_result"
    }
   ],
   "source": [
    "# import pandas as pd\n",
    "\n",
    "# df = pd.read_csv('카테고리별/TV_Q.csv', encoding='utf-8')\n",
    "# df.head()"
   ]
  },
  {
   "cell_type": "code",
   "execution_count": 6,
   "metadata": {},
   "outputs": [],
   "source": [
    "# # 데이터 저장\n",
    "# import pickle\n",
    "\n",
    "# def save_data_to_file(data, filename):\n",
    "#     with open(filename, 'wb') as file:\n",
    "#         pickle.dump(data, file)\n",
    "\n",
    "# # 처리된 텍스트 데이터를 파일로 저장\n",
    "# save_data_to_file(df, 'TV_Q.pkl')"
   ]
  },
  {
   "cell_type": "code",
   "execution_count": 14,
   "metadata": {},
   "outputs": [],
   "source": [
    "import pandas as pd\n",
    "import pickle\n",
    "import os"
   ]
  },
  {
   "cell_type": "code",
   "execution_count": 15,
   "metadata": {},
   "outputs": [],
   "source": [
    "def load_and_save_csv_files(directory):\n",
    "    # 주어진 디렉토리에서 모든 CSV 파일을 찾음\n",
    "    for filename in os.listdir(directory):\n",
    "        if filename.endswith('_Q.csv') or filename.endswith('_R.csv'):\n",
    "            # 파일 경로 생성\n",
    "            file_path = os.path.join(directory, filename)\n",
    "            # CSV 파일 읽기\n",
    "            df = pd.read_csv(file_path, encoding='utf-8')\n",
    "            # pickle 파일 이름 생성 (CSV 확장자를 PKL로 변경)\n",
    "            pkl_filename = filename.replace('.csv', '.pkl')\n",
    "            pkl_path = os.path.join(directory, pkl_filename)\n",
    "            # 데이터를 pickle 파일로 저장\n",
    "            save_data_to_file(df, pkl_path)\n",
    "\n",
    "def save_data_to_file(data, filename):\n",
    "    # 데이터를 파일로 저장\n",
    "    with open(filename, 'wb') as file:\n",
    "        pickle.dump(data, file)\n",
    "\n",
    "# '카테고리별' 폴더 내의 모든 파일 처리\n",
    "load_and_save_csv_files('카테고리별')"
   ]
  },
  {
   "cell_type": "markdown",
   "metadata": {},
   "source": [
    "## 데이터 불러오기"
   ]
  },
  {
   "cell_type": "code",
   "execution_count": 16,
   "metadata": {},
   "outputs": [],
   "source": [
    "def load_all_pkl_files(directory):\n",
    "    data_dict = {}\n",
    "    # 주어진 디렉토리에서 모든 .pkl 파일을 찾음\n",
    "    for filename in os.listdir(directory):\n",
    "        if filename.endswith('.pkl'):\n",
    "            file_path = os.path.join(directory, filename)\n",
    "            # 각 pickle 파일을 로드\n",
    "            with open(file_path, 'rb') as file:\n",
    "                data = pickle.load(file)\n",
    "            # 파일 이름을 키로 하고 로드된 데이터를 값으로 하는 딕셔너리에 저장\n",
    "            data_dict[filename] = data\n",
    "    return data_dict\n",
    "\n",
    "# '카테고리별' 폴더 내의 모든 .pkl 파일 로드\n",
    "loaded_texts = load_all_pkl_files('카테고리별')"
   ]
  },
  {
   "cell_type": "code",
   "execution_count": 8,
   "metadata": {},
   "outputs": [
    {
     "data": {
      "text/html": [
       "<div>\n",
       "<style scoped>\n",
       "    .dataframe tbody tr th:only-of-type {\n",
       "        vertical-align: middle;\n",
       "    }\n",
       "\n",
       "    .dataframe tbody tr th {\n",
       "        vertical-align: top;\n",
       "    }\n",
       "\n",
       "    .dataframe thead th {\n",
       "        text-align: right;\n",
       "    }\n",
       "</style>\n",
       "<table border=\"1\" class=\"dataframe\">\n",
       "  <thead>\n",
       "    <tr style=\"text-align: right;\">\n",
       "      <th></th>\n",
       "      <th>카테고리</th>\n",
       "      <th>키워드</th>\n",
       "      <th>질문</th>\n",
       "    </tr>\n",
       "  </thead>\n",
       "  <tbody>\n",
       "    <tr>\n",
       "      <th>0</th>\n",
       "      <td>TV</td>\n",
       "      <td>드라마</td>\n",
       "      <td>제가 학교에서 분장에 대한 발표 준비를 하고있는데요\\n자료가 필요해서 자료를 찾고있...</td>\n",
       "    </tr>\n",
       "    <tr>\n",
       "      <th>1</th>\n",
       "      <td>TV</td>\n",
       "      <td>드라마</td>\n",
       "      <td>안녕하세요 이제 중학교 1학년이 되는 현 초6입니다. 저는 1-2년전부터 배우라는 ...</td>\n",
       "    </tr>\n",
       "    <tr>\n",
       "      <th>2</th>\n",
       "      <td>TV</td>\n",
       "      <td>드라마</td>\n",
       "      <td>NaN</td>\n",
       "    </tr>\n",
       "    <tr>\n",
       "      <th>3</th>\n",
       "      <td>TV</td>\n",
       "      <td>드라마</td>\n",
       "      <td>드라마를 패러디하고 싶은데 따라하면 저작권법에 걸릴까요..?사람들이 하도 많이 해서...</td>\n",
       "    </tr>\n",
       "    <tr>\n",
       "      <th>4</th>\n",
       "      <td>TV</td>\n",
       "      <td>드라마</td>\n",
       "      <td>NaN</td>\n",
       "    </tr>\n",
       "    <tr>\n",
       "      <th>...</th>\n",
       "      <td>...</td>\n",
       "      <td>...</td>\n",
       "      <td>...</td>\n",
       "    </tr>\n",
       "    <tr>\n",
       "      <th>9605</th>\n",
       "      <td>TV</td>\n",
       "      <td>예능</td>\n",
       "      <td>임영웅님 나오는 예능 다시보기 무료 가능한 곳 있나요?</td>\n",
       "    </tr>\n",
       "    <tr>\n",
       "      <th>9606</th>\n",
       "      <td>TV</td>\n",
       "      <td>예능</td>\n",
       "      <td>NaN</td>\n",
       "    </tr>\n",
       "    <tr>\n",
       "      <th>9607</th>\n",
       "      <td>TV</td>\n",
       "      <td>예능</td>\n",
       "      <td>NaN</td>\n",
       "    </tr>\n",
       "    <tr>\n",
       "      <th>9608</th>\n",
       "      <td>TV</td>\n",
       "      <td>예능</td>\n",
       "      <td>NaN</td>\n",
       "    </tr>\n",
       "    <tr>\n",
       "      <th>9609</th>\n",
       "      <td>TV</td>\n",
       "      <td>예능</td>\n",
       "      <td>NaN</td>\n",
       "    </tr>\n",
       "  </tbody>\n",
       "</table>\n",
       "<p>9610 rows × 3 columns</p>\n",
       "</div>"
      ],
      "text/plain": [
       "     카테고리  키워드                                                 질문\n",
       "0      TV  드라마  제가 학교에서 분장에 대한 발표 준비를 하고있는데요\\n자료가 필요해서 자료를 찾고있...\n",
       "1      TV  드라마  안녕하세요 이제 중학교 1학년이 되는 현 초6입니다. 저는 1-2년전부터 배우라는 ...\n",
       "2      TV  드라마                                                NaN\n",
       "3      TV  드라마  드라마를 패러디하고 싶은데 따라하면 저작권법에 걸릴까요..?사람들이 하도 많이 해서...\n",
       "4      TV  드라마                                                NaN\n",
       "...   ...  ...                                                ...\n",
       "9605   TV   예능                     임영웅님 나오는 예능 다시보기 무료 가능한 곳 있나요?\n",
       "9606   TV   예능                                                NaN\n",
       "9607   TV   예능                                                NaN\n",
       "9608   TV   예능                                                NaN\n",
       "9609   TV   예능                                                NaN\n",
       "\n",
       "[9610 rows x 3 columns]"
      ]
     },
     "execution_count": 8,
     "metadata": {},
     "output_type": "execute_result"
    }
   ],
   "source": [
    "# import pickle\n",
    "\n",
    "# # pickle 파일에서 데이터 로드\n",
    "# def load_data_from_file(filename):\n",
    "#     with open(filename, 'rb') as file:\n",
    "#         data = pickle.load(file)\n",
    "#     return data\n",
    "\n",
    "# # 로드된 데이터 사용\n",
    "# loaded_texts = load_data_from_file('TV_Q.pkl')\n",
    "# loaded_texts"
   ]
  },
  {
   "cell_type": "markdown",
   "metadata": {},
   "source": [
    "## 불필요한 문자 제거"
   ]
  },
  {
   "cell_type": "code",
   "execution_count": 9,
   "metadata": {},
   "outputs": [],
   "source": [
    "import re\n",
    "\n",
    "def remove_text(texts_dict):\n",
    "    processed_texts = {}\n",
    "    for file_path, text in texts_dict.items():\n",
    "        # 소문자 알파벳 뒤에 /와 공백이 오는 형식 -> 공백으로 대체\n",
    "        text = re.sub(r'[a-z]/\\s', ' ', text)\n",
    "\n",
    "        # 불필요한 문자 공백으로 대체: 영문자, 숫자, 공백, 한글, 일부 문장부호만 남김\n",
    "        text = re.sub(r'[^\\w\\s?.!가-힣]', ' ', text)\n",
    "\n",
    "        processed_texts[file_path] = text\n",
    "    return processed_texts"
   ]
  },
  {
   "cell_type": "code",
   "execution_count": 10,
   "metadata": {},
   "outputs": [
    {
     "ename": "TypeError",
     "evalue": "expected string or bytes-like object, got 'Series'",
     "output_type": "error",
     "traceback": [
      "\u001b[1;31m---------------------------------------------------------------------------\u001b[0m",
      "\u001b[1;31mTypeError\u001b[0m                                 Traceback (most recent call last)",
      "Cell \u001b[1;32mIn[10], line 1\u001b[0m\n\u001b[1;32m----> 1\u001b[0m processed_texts \u001b[38;5;241m=\u001b[39m remove_text(loaded_texts)\n",
      "Cell \u001b[1;32mIn[9], line 7\u001b[0m, in \u001b[0;36mremove_text\u001b[1;34m(texts_dict)\u001b[0m\n\u001b[0;32m      4\u001b[0m processed_texts \u001b[38;5;241m=\u001b[39m {}\n\u001b[0;32m      5\u001b[0m \u001b[38;5;28;01mfor\u001b[39;00m file_path, text \u001b[38;5;129;01min\u001b[39;00m texts_dict\u001b[38;5;241m.\u001b[39mitems():\n\u001b[0;32m      6\u001b[0m     \u001b[38;5;66;03m# 소문자 알파벳 뒤에 /와 공백이 오는 형식 -> 공백으로 대체\u001b[39;00m\n\u001b[1;32m----> 7\u001b[0m     text \u001b[38;5;241m=\u001b[39m re\u001b[38;5;241m.\u001b[39msub(\u001b[38;5;124mr\u001b[39m\u001b[38;5;124m'\u001b[39m\u001b[38;5;124m[a-z]/\u001b[39m\u001b[38;5;124m\\\u001b[39m\u001b[38;5;124ms\u001b[39m\u001b[38;5;124m'\u001b[39m, \u001b[38;5;124m'\u001b[39m\u001b[38;5;124m \u001b[39m\u001b[38;5;124m'\u001b[39m, text)\n\u001b[0;32m      9\u001b[0m     \u001b[38;5;66;03m# 불필요한 문자 공백으로 대체: 영문자, 숫자, 공백, 한글, 일부 문장부호만 남김\u001b[39;00m\n\u001b[0;32m     10\u001b[0m     text \u001b[38;5;241m=\u001b[39m re\u001b[38;5;241m.\u001b[39msub(\u001b[38;5;124mr\u001b[39m\u001b[38;5;124m'\u001b[39m\u001b[38;5;124m[^\u001b[39m\u001b[38;5;124m\\\u001b[39m\u001b[38;5;124mw\u001b[39m\u001b[38;5;124m\\\u001b[39m\u001b[38;5;124ms?.!가-힣]\u001b[39m\u001b[38;5;124m'\u001b[39m, \u001b[38;5;124m'\u001b[39m\u001b[38;5;124m \u001b[39m\u001b[38;5;124m'\u001b[39m, text)\n",
      "File \u001b[1;32mc:\\Users\\sugye\\anaconda3\\Lib\\re\\__init__.py:185\u001b[0m, in \u001b[0;36msub\u001b[1;34m(pattern, repl, string, count, flags)\u001b[0m\n\u001b[0;32m    178\u001b[0m \u001b[38;5;28;01mdef\u001b[39;00m \u001b[38;5;21msub\u001b[39m(pattern, repl, string, count\u001b[38;5;241m=\u001b[39m\u001b[38;5;241m0\u001b[39m, flags\u001b[38;5;241m=\u001b[39m\u001b[38;5;241m0\u001b[39m):\n\u001b[0;32m    179\u001b[0m \u001b[38;5;250m    \u001b[39m\u001b[38;5;124;03m\"\"\"Return the string obtained by replacing the leftmost\u001b[39;00m\n\u001b[0;32m    180\u001b[0m \u001b[38;5;124;03m    non-overlapping occurrences of the pattern in string by the\u001b[39;00m\n\u001b[0;32m    181\u001b[0m \u001b[38;5;124;03m    replacement repl.  repl can be either a string or a callable;\u001b[39;00m\n\u001b[0;32m    182\u001b[0m \u001b[38;5;124;03m    if a string, backslash escapes in it are processed.  If it is\u001b[39;00m\n\u001b[0;32m    183\u001b[0m \u001b[38;5;124;03m    a callable, it's passed the Match object and must return\u001b[39;00m\n\u001b[0;32m    184\u001b[0m \u001b[38;5;124;03m    a replacement string to be used.\"\"\"\u001b[39;00m\n\u001b[1;32m--> 185\u001b[0m     \u001b[38;5;28;01mreturn\u001b[39;00m _compile(pattern, flags)\u001b[38;5;241m.\u001b[39msub(repl, string, count)\n",
      "\u001b[1;31mTypeError\u001b[0m: expected string or bytes-like object, got 'Series'"
     ]
    }
   ],
   "source": [
    "processed_texts = remove_text(전체 데이터)"
   ]
  },
  {
   "cell_type": "markdown",
   "metadata": {},
   "source": [
    "## 띄어쓰기 교정"
   ]
  },
  {
   "cell_type": "code",
   "execution_count": null,
   "metadata": {},
   "outputs": [],
   "source": [
    "from pykospacing import Spacing\n",
    "\n",
    "def correct_spacing(texts_dict):\n",
    "    spacing = Spacing()\n",
    "    corrected_texts = {}\n",
    "    for file_path, text in texts_dict.items():\n",
    "        # 띄어쓰기 교정 적용\n",
    "        corrected_text = spacing(text)\n",
    "        corrected_texts[file_path] = corrected_text\n",
    "    return corrected_texts\n",
    "\n",
    "corrected_texts = correct_spacing(processed_texts)"
   ]
  }
 ],
 "metadata": {
  "kernelspec": {
   "display_name": "base",
   "language": "python",
   "name": "python3"
  },
  "language_info": {
   "codemirror_mode": {
    "name": "ipython",
    "version": 3
   },
   "file_extension": ".py",
   "mimetype": "text/x-python",
   "name": "python",
   "nbconvert_exporter": "python",
   "pygments_lexer": "ipython3",
   "version": "3.11.5"
  }
 },
 "nbformat": 4,
 "nbformat_minor": 2
}
