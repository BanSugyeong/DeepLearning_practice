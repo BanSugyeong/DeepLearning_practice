{
 "cells": [
  {
   "cell_type": "markdown",
   "metadata": {},
   "source": [
    "## 데이터 저장"
   ]
  },
  {
   "cell_type": "code",
   "execution_count": 5,
   "metadata": {},
   "outputs": [
    {
     "data": {
      "text/html": [
       "<div>\n",
       "<style scoped>\n",
       "    .dataframe tbody tr th:only-of-type {\n",
       "        vertical-align: middle;\n",
       "    }\n",
       "\n",
       "    .dataframe tbody tr th {\n",
       "        vertical-align: top;\n",
       "    }\n",
       "\n",
       "    .dataframe thead th {\n",
       "        text-align: right;\n",
       "    }\n",
       "</style>\n",
       "<table border=\"1\" class=\"dataframe\">\n",
       "  <thead>\n",
       "    <tr style=\"text-align: right;\">\n",
       "      <th></th>\n",
       "      <th>카테고리</th>\n",
       "      <th>키워드</th>\n",
       "      <th>질문</th>\n",
       "    </tr>\n",
       "  </thead>\n",
       "  <tbody>\n",
       "    <tr>\n",
       "      <th>0</th>\n",
       "      <td>TV</td>\n",
       "      <td>드라마</td>\n",
       "      <td>제가 학교에서 분장에 대한 발표 준비를 하고있는데요\\n자료가 필요해서 자료를 찾고있...</td>\n",
       "    </tr>\n",
       "    <tr>\n",
       "      <th>1</th>\n",
       "      <td>TV</td>\n",
       "      <td>드라마</td>\n",
       "      <td>안녕하세요 이제 중학교 1학년이 되는 현 초6입니다. 저는 1-2년전부터 배우라는 ...</td>\n",
       "    </tr>\n",
       "    <tr>\n",
       "      <th>2</th>\n",
       "      <td>TV</td>\n",
       "      <td>드라마</td>\n",
       "      <td>NaN</td>\n",
       "    </tr>\n",
       "    <tr>\n",
       "      <th>3</th>\n",
       "      <td>TV</td>\n",
       "      <td>드라마</td>\n",
       "      <td>드라마를 패러디하고 싶은데 따라하면 저작권법에 걸릴까요..?사람들이 하도 많이 해서...</td>\n",
       "    </tr>\n",
       "    <tr>\n",
       "      <th>4</th>\n",
       "      <td>TV</td>\n",
       "      <td>드라마</td>\n",
       "      <td>NaN</td>\n",
       "    </tr>\n",
       "  </tbody>\n",
       "</table>\n",
       "</div>"
      ],
      "text/plain": [
       "  카테고리  키워드                                                 질문\n",
       "0   TV  드라마  제가 학교에서 분장에 대한 발표 준비를 하고있는데요\\n자료가 필요해서 자료를 찾고있...\n",
       "1   TV  드라마  안녕하세요 이제 중학교 1학년이 되는 현 초6입니다. 저는 1-2년전부터 배우라는 ...\n",
       "2   TV  드라마                                                NaN\n",
       "3   TV  드라마  드라마를 패러디하고 싶은데 따라하면 저작권법에 걸릴까요..?사람들이 하도 많이 해서...\n",
       "4   TV  드라마                                                NaN"
      ]
     },
     "execution_count": 5,
     "metadata": {},
     "output_type": "execute_result"
    }
   ],
   "source": [
    "# import pandas as pd\n",
    "\n",
    "# df = pd.read_csv('카테고리별/TV_Q.csv', encoding='utf-8')\n",
    "# df.head()"
   ]
  },
  {
   "cell_type": "code",
   "execution_count": 6,
   "metadata": {},
   "outputs": [],
   "source": [
    "# # 데이터 저장\n",
    "# import pickle\n",
    "\n",
    "# def save_data_to_file(data, filename):\n",
    "#     with open(filename, 'wb') as file:\n",
    "#         pickle.dump(data, file)\n",
    "\n",
    "# # 처리된 텍스트 데이터를 파일로 저장\n",
    "# save_data_to_file(df, 'TV_Q.pkl')"
   ]
  },
  {
   "cell_type": "code",
   "execution_count": 14,
   "metadata": {},
   "outputs": [],
   "source": [
    "import pandas as pd\n",
    "import pickle\n",
    "import os"
   ]
  },
  {
   "cell_type": "code",
   "execution_count": 15,
   "metadata": {},
   "outputs": [],
   "source": [
    "def load_and_save_csv_files(directory):\n",
    "    # 주어진 디렉토리에서 모든 CSV 파일을 찾음\n",
    "    for filename in os.listdir(directory):\n",
    "        if filename.endswith('_Q.csv') or filename.endswith('_R.csv'):\n",
    "            # 파일 경로 생성\n",
    "            file_path = os.path.join(directory, filename)\n",
    "            # CSV 파일 읽기\n",
    "            df = pd.read_csv(file_path, encoding='utf-8')\n",
    "            # pickle 파일 이름 생성 (CSV 확장자를 PKL로 변경)\n",
    "            pkl_filename = filename.replace('.csv', '.pkl')\n",
    "            pkl_path = os.path.join(directory, pkl_filename)\n",
    "            # 데이터를 pickle 파일로 저장\n",
    "            save_data_to_file(df, pkl_path)\n",
    "\n",
    "def save_data_to_file(data, filename):\n",
    "    # 데이터를 파일로 저장\n",
    "    with open(filename, 'wb') as file:\n",
    "        pickle.dump(data, file)\n",
    "\n",
    "# '카테고리별' 폴더 내의 모든 파일 처리\n",
    "load_and_save_csv_files('카테고리별')"
   ]
  },
  {
   "cell_type": "markdown",
   "metadata": {},
   "source": [
    "## 데이터 불러오기"
   ]
  },
  {
   "cell_type": "code",
   "execution_count": 31,
   "metadata": {},
   "outputs": [],
   "source": [
    "# .pkl 파일에서 데이터 로드\n",
    "def load_data_from_file(filename):\n",
    "    with open(filename, 'rb') as file:\n",
    "        data = pickle.load(file)\n",
    "    return data\n",
    "\n",
    "# 주어진 디렉토리에서 _Q.pkl로 끝나는 파일만 로드하는 함수\n",
    "def load_q_pkl_files(directory):\n",
    "    data_dict = {}\n",
    "    for filename in os.listdir(directory):\n",
    "        if filename.endswith('_Q.pkl'):\n",
    "            file_path = os.path.join(directory, filename)\n",
    "            data = load_data_from_file(file_path)\n",
    "            data_dict[file_path] = data\n",
    "    return data_dict\n"
   ]
  },
  {
   "cell_type": "code",
   "execution_count": 32,
   "metadata": {},
   "outputs": [],
   "source": [
    "# 주어진 디렉토리에서 _Q.pkl로 끝나는 파일만 로드하는 함수\n",
    "def load_r_pkl_files(directory):\n",
    "    data_dict = {}\n",
    "    for filename in os.listdir(directory):\n",
    "        if filename.endswith('_R.pkl'):\n",
    "            file_path = os.path.join(directory, filename)\n",
    "            data = load_data_from_file(file_path)\n",
    "            data_dict[file_path] = data\n",
    "    return data_dict\n"
   ]
  },
  {
   "cell_type": "code",
   "execution_count": 22,
   "metadata": {},
   "outputs": [],
   "source": [
    "# def load_all_pkl_files(directory):\n",
    "#     data_dict = {}\n",
    "#     # 주어진 디렉토리에서 모든 .pkl 파일을 찾음\n",
    "#     for filename in os.listdir(directory):\n",
    "#         if filename.endswith('.pkl'):\n",
    "#             file_path = os.path.join(directory, filename)\n",
    "#             # 각 pickle 파일을 로드\n",
    "#             with open(file_path, 'rb') as file:\n",
    "#                 data = pickle.load(file)\n",
    "#             # 파일 이름을 키로 하고 로드된 데이터를 값으로 하는 딕셔너리에 저장\n",
    "#             data_dict[filename] = data\n",
    "#     return data_dict\n",
    "\n",
    "# # '카테고리별' 폴더 내의 모든 .pkl 파일 로드\n",
    "# loaded_texts = load_all_pkl_files('카테고리별')"
   ]
  },
  {
   "cell_type": "code",
   "execution_count": 8,
   "metadata": {},
   "outputs": [
    {
     "data": {
      "text/html": [
       "<div>\n",
       "<style scoped>\n",
       "    .dataframe tbody tr th:only-of-type {\n",
       "        vertical-align: middle;\n",
       "    }\n",
       "\n",
       "    .dataframe tbody tr th {\n",
       "        vertical-align: top;\n",
       "    }\n",
       "\n",
       "    .dataframe thead th {\n",
       "        text-align: right;\n",
       "    }\n",
       "</style>\n",
       "<table border=\"1\" class=\"dataframe\">\n",
       "  <thead>\n",
       "    <tr style=\"text-align: right;\">\n",
       "      <th></th>\n",
       "      <th>카테고리</th>\n",
       "      <th>키워드</th>\n",
       "      <th>질문</th>\n",
       "    </tr>\n",
       "  </thead>\n",
       "  <tbody>\n",
       "    <tr>\n",
       "      <th>0</th>\n",
       "      <td>TV</td>\n",
       "      <td>드라마</td>\n",
       "      <td>제가 학교에서 분장에 대한 발표 준비를 하고있는데요\\n자료가 필요해서 자료를 찾고있...</td>\n",
       "    </tr>\n",
       "    <tr>\n",
       "      <th>1</th>\n",
       "      <td>TV</td>\n",
       "      <td>드라마</td>\n",
       "      <td>안녕하세요 이제 중학교 1학년이 되는 현 초6입니다. 저는 1-2년전부터 배우라는 ...</td>\n",
       "    </tr>\n",
       "    <tr>\n",
       "      <th>2</th>\n",
       "      <td>TV</td>\n",
       "      <td>드라마</td>\n",
       "      <td>NaN</td>\n",
       "    </tr>\n",
       "    <tr>\n",
       "      <th>3</th>\n",
       "      <td>TV</td>\n",
       "      <td>드라마</td>\n",
       "      <td>드라마를 패러디하고 싶은데 따라하면 저작권법에 걸릴까요..?사람들이 하도 많이 해서...</td>\n",
       "    </tr>\n",
       "    <tr>\n",
       "      <th>4</th>\n",
       "      <td>TV</td>\n",
       "      <td>드라마</td>\n",
       "      <td>NaN</td>\n",
       "    </tr>\n",
       "    <tr>\n",
       "      <th>...</th>\n",
       "      <td>...</td>\n",
       "      <td>...</td>\n",
       "      <td>...</td>\n",
       "    </tr>\n",
       "    <tr>\n",
       "      <th>9605</th>\n",
       "      <td>TV</td>\n",
       "      <td>예능</td>\n",
       "      <td>임영웅님 나오는 예능 다시보기 무료 가능한 곳 있나요?</td>\n",
       "    </tr>\n",
       "    <tr>\n",
       "      <th>9606</th>\n",
       "      <td>TV</td>\n",
       "      <td>예능</td>\n",
       "      <td>NaN</td>\n",
       "    </tr>\n",
       "    <tr>\n",
       "      <th>9607</th>\n",
       "      <td>TV</td>\n",
       "      <td>예능</td>\n",
       "      <td>NaN</td>\n",
       "    </tr>\n",
       "    <tr>\n",
       "      <th>9608</th>\n",
       "      <td>TV</td>\n",
       "      <td>예능</td>\n",
       "      <td>NaN</td>\n",
       "    </tr>\n",
       "    <tr>\n",
       "      <th>9609</th>\n",
       "      <td>TV</td>\n",
       "      <td>예능</td>\n",
       "      <td>NaN</td>\n",
       "    </tr>\n",
       "  </tbody>\n",
       "</table>\n",
       "<p>9610 rows × 3 columns</p>\n",
       "</div>"
      ],
      "text/plain": [
       "     카테고리  키워드                                                 질문\n",
       "0      TV  드라마  제가 학교에서 분장에 대한 발표 준비를 하고있는데요\\n자료가 필요해서 자료를 찾고있...\n",
       "1      TV  드라마  안녕하세요 이제 중학교 1학년이 되는 현 초6입니다. 저는 1-2년전부터 배우라는 ...\n",
       "2      TV  드라마                                                NaN\n",
       "3      TV  드라마  드라마를 패러디하고 싶은데 따라하면 저작권법에 걸릴까요..?사람들이 하도 많이 해서...\n",
       "4      TV  드라마                                                NaN\n",
       "...   ...  ...                                                ...\n",
       "9605   TV   예능                     임영웅님 나오는 예능 다시보기 무료 가능한 곳 있나요?\n",
       "9606   TV   예능                                                NaN\n",
       "9607   TV   예능                                                NaN\n",
       "9608   TV   예능                                                NaN\n",
       "9609   TV   예능                                                NaN\n",
       "\n",
       "[9610 rows x 3 columns]"
      ]
     },
     "execution_count": 8,
     "metadata": {},
     "output_type": "execute_result"
    }
   ],
   "source": [
    "# import pickle\n",
    "\n",
    "# # pickle 파일에서 데이터 로드\n",
    "# def load_data_from_file(filename):\n",
    "#     with open(filename, 'rb') as file:\n",
    "#         data = pickle.load(file)\n",
    "#     return data\n",
    "\n",
    "# # 로드된 데이터 사용\n",
    "# loaded_texts = load_data_from_file('TV_Q.pkl')\n",
    "# loaded_texts"
   ]
  },
  {
   "cell_type": "markdown",
   "metadata": {},
   "source": [
    "## 불필요한 문자 제거"
   ]
  },
  {
   "cell_type": "code",
   "execution_count": 37,
   "metadata": {},
   "outputs": [],
   "source": [
    "def remove_text(texts_dict):\n",
    "    processed_texts = {}\n",
    "    for file_path, df in texts_dict.items():\n",
    "        if isinstance(df, pd.DataFrame) and '답변' in df.columns:\n",
    "            # DataFrame의 'text' 열에 대해서만 처리\n",
    "            df['답변'] = df['답변'].apply(lambda x: re.sub(r'[a-z]/\\s', ' ', x))\n",
    "            df['답변'] = df['답변'].apply(lambda x: re.sub(r'[^\\w\\s?.!가-힣]', ' ', x))\n",
    "            processed_texts[file_path] = df\n",
    "        else:\n",
    "            # 데이터가 DataFrame이 아니거나 'text' 열이 없는 경우\n",
    "            # 에러 처리 또는 로그 출력\n",
    "            print(f\"Error: Data in {file_path} is not in expected format or 'text' column is missing.\")\n",
    "    return processed_texts"
   ]
  },
  {
   "cell_type": "code",
   "execution_count": 38,
   "metadata": {},
   "outputs": [],
   "source": [
    "all_R_data = load_r_pkl_files('카테고리별')\n",
    "processed_texts_R = remove_text(all_R_data)"
   ]
  },
  {
   "cell_type": "code",
   "execution_count": 42,
   "metadata": {},
   "outputs": [],
   "source": [
    "def remove_text(texts_dict):\n",
    "    processed_texts = {}\n",
    "    for file_path, df in texts_dict.items():\n",
    "        if isinstance(df, pd.DataFrame) and '질문' in df.columns:\n",
    "            # DataFrame의 'text' 열에 대해서만 처리\n",
    "            # 'text' 열에서 NaN 값을 특정 문자열로 채우기\n",
    "            df['질문'] = df['질문'].fillna('')\n",
    "            df['질문'] = df['질문'].apply(lambda x: re.sub(r'[a-z]/\\s', ' ', x))\n",
    "            df['질문'] = df['질문'].apply(lambda x: re.sub(r'[^\\w\\s?.!가-힣]', ' ', x))\n",
    "            processed_texts[file_path] = df\n",
    "        else:\n",
    "            # 데이터가 DataFrame이 아니거나 'text' 열이 없는 경우\n",
    "            # 에러 처리 또는 로그 출력\n",
    "            print(f\"Error: Data in {file_path} is not in expected format or 'text' column is missing.\")\n",
    "    return processed_texts"
   ]
  },
  {
   "cell_type": "code",
   "execution_count": 43,
   "metadata": {},
   "outputs": [],
   "source": [
    "all_Q_data = load_q_pkl_files('카테고리별')\n",
    "processed_texts_Q = remove_text(all_Q_data)"
   ]
  },
  {
   "cell_type": "markdown",
   "metadata": {},
   "source": [
    "## 띄어쓰기 교정"
   ]
  },
  {
   "cell_type": "code",
   "execution_count": 45,
   "metadata": {},
   "outputs": [
    {
     "name": "stdout",
     "output_type": "stream",
     "text": [
      "Note: you may need to restart the kernel to use updated packages.\n"
     ]
    },
    {
     "name": "stderr",
     "output_type": "stream",
     "text": [
      "ERROR: Could not find a version that satisfies the requirement pykospacing (from versions: none)\n",
      "ERROR: No matching distribution found for pykospacing\n"
     ]
    }
   ],
   "source": [
    "pip install pykospacing"
   ]
  },
  {
   "cell_type": "code",
   "execution_count": 46,
   "metadata": {},
   "outputs": [
    {
     "ename": "ModuleNotFoundError",
     "evalue": "No module named 'pykospacing'",
     "output_type": "error",
     "traceback": [
      "\u001b[1;31m---------------------------------------------------------------------------\u001b[0m",
      "\u001b[1;31mModuleNotFoundError\u001b[0m                       Traceback (most recent call last)",
      "Cell \u001b[1;32mIn[46], line 1\u001b[0m\n\u001b[1;32m----> 1\u001b[0m \u001b[38;5;28;01mfrom\u001b[39;00m \u001b[38;5;21;01mpykospacing\u001b[39;00m \u001b[38;5;28;01mimport\u001b[39;00m Spacing\n\u001b[0;32m      3\u001b[0m \u001b[38;5;28;01mdef\u001b[39;00m \u001b[38;5;21mcorrect_spacing\u001b[39m(texts_dict):\n\u001b[0;32m      4\u001b[0m     spacing \u001b[38;5;241m=\u001b[39m Spacing()\n",
      "\u001b[1;31mModuleNotFoundError\u001b[0m: No module named 'pykospacing'"
     ]
    }
   ],
   "source": [
    "from pykospacing import Spacing\n",
    "\n",
    "def correct_spacing(texts_dict):\n",
    "    spacing = Spacing()\n",
    "    corrected_texts = {}\n",
    "    for file_path, text in texts_dict.items():\n",
    "        # 띄어쓰기 교정 적용\n",
    "        corrected_text = spacing(text)\n",
    "        corrected_texts[file_path] = corrected_text\n",
    "    return corrected_texts\n",
    "\n",
    "corrected_texts_Q = correct_spacing(processed_texts_Q)\n",
    "corrected_texts_R = correct_spacing(processed_texts_R)"
   ]
  },
  {
   "cell_type": "code",
   "execution_count": null,
   "metadata": {},
   "outputs": [],
   "source": []
  }
 ],
 "metadata": {
  "kernelspec": {
   "display_name": "base",
   "language": "python",
   "name": "python3"
  },
  "language_info": {
   "codemirror_mode": {
    "name": "ipython",
    "version": 3
   },
   "file_extension": ".py",
   "mimetype": "text/x-python",
   "name": "python",
   "nbconvert_exporter": "python",
   "pygments_lexer": "ipython3",
   "version": "3.11.5"
  }
 },
 "nbformat": 4,
 "nbformat_minor": 2
}
